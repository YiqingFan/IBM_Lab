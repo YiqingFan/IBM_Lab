{
 "cells": [
  {
   "cell_type": "code",
   "execution_count": 170,
   "metadata": {},
   "outputs": [
    {
     "name": "stdout",
     "output_type": "stream",
     "text": [
      "Requirement already satisfied: wikipedia in /anaconda3/lib/python3.7/site-packages (1.4.0)\n",
      "Requirement already satisfied: beautifulsoup4 in /anaconda3/lib/python3.7/site-packages (from wikipedia) (4.7.1)\n",
      "Requirement already satisfied: requests<3.0.0,>=2.0.0 in /anaconda3/lib/python3.7/site-packages (from wikipedia) (2.22.0)\n",
      "Requirement already satisfied: soupsieve>=1.2 in /anaconda3/lib/python3.7/site-packages (from beautifulsoup4->wikipedia) (1.8)\n",
      "Requirement already satisfied: chardet<3.1.0,>=3.0.2 in /anaconda3/lib/python3.7/site-packages (from requests<3.0.0,>=2.0.0->wikipedia) (3.0.4)\n",
      "Requirement already satisfied: urllib3!=1.25.0,!=1.25.1,<1.26,>=1.21.1 in /anaconda3/lib/python3.7/site-packages (from requests<3.0.0,>=2.0.0->wikipedia) (1.24.2)\n",
      "Requirement already satisfied: idna<2.9,>=2.5 in /anaconda3/lib/python3.7/site-packages (from requests<3.0.0,>=2.0.0->wikipedia) (2.8)\n",
      "Requirement already satisfied: certifi>=2017.4.17 in /anaconda3/lib/python3.7/site-packages (from requests<3.0.0,>=2.0.0->wikipedia) (2019.11.28)\n",
      "Libraries Imported!\n"
     ]
    }
   ],
   "source": [
    "#Import Beautiful Soup, lxml, requests to scrap data from Toronto Neighborhood in Wikipedia\n",
    "!pip install wikipedia\n",
    "from bs4 import BeautifulSoup\n",
    "import wikipedia as wp\n",
    "import numpy as np \n",
    "\n",
    "import pandas as pd # library for data analsysis\n",
    "pd.set_option('display.max_columns', None)\n",
    "pd.set_option('display.max_rows', None)\n",
    "\n",
    "import json # library to handle JSON files\n",
    "\n",
    "#conda install -c conda-forge geopy --yes # uncomment this line if you haven't completed the Foursquare API lab\n",
    "from geopy.geocoders import Nominatim # convert an address into latitude and longitude values\n",
    "\n",
    "import requests # library to handle requests\n",
    "from pandas.io.json import json_normalize # tranform JSON file into a pandas dataframe\n",
    "\n",
    "# Matplotlib and associated plotting modules\n",
    "import matplotlib.cm as cm\n",
    "import matplotlib.colors as colors\n",
    "\n",
    "# import k-means from clustering stage\n",
    "from sklearn.cluster import KMeans\n",
    "\n",
    "#!conda install -c conda-forge folium=0.5.0 --yes # uncomment this line if you haven't completed the Foursquare API lab\n",
    "import folium # map rendering library\n",
    "\n",
    "print(\"Libraries Imported!\")"
   ]
  },
  {
   "cell_type": "markdown",
   "metadata": {},
   "source": [
    "# Get Table from Wikipedia "
   ]
  },
  {
   "cell_type": "code",
   "execution_count": 171,
   "metadata": {},
   "outputs": [
    {
     "data": {
      "text/html": [
       "<div>\n",
       "<style scoped>\n",
       "    .dataframe tbody tr th:only-of-type {\n",
       "        vertical-align: middle;\n",
       "    }\n",
       "\n",
       "    .dataframe tbody tr th {\n",
       "        vertical-align: top;\n",
       "    }\n",
       "\n",
       "    .dataframe thead th {\n",
       "        text-align: right;\n",
       "    }\n",
       "</style>\n",
       "<table border=\"1\" class=\"dataframe\">\n",
       "  <thead>\n",
       "    <tr style=\"text-align: right;\">\n",
       "      <th></th>\n",
       "      <th>Postal Code</th>\n",
       "      <th>Borough</th>\n",
       "      <th>Neighborhood</th>\n",
       "    </tr>\n",
       "  </thead>\n",
       "  <tbody>\n",
       "    <tr>\n",
       "      <th>0</th>\n",
       "      <td>M1A</td>\n",
       "      <td>Not assigned</td>\n",
       "      <td>Not assigned</td>\n",
       "    </tr>\n",
       "    <tr>\n",
       "      <th>1</th>\n",
       "      <td>M2A</td>\n",
       "      <td>Not assigned</td>\n",
       "      <td>Not assigned</td>\n",
       "    </tr>\n",
       "    <tr>\n",
       "      <th>2</th>\n",
       "      <td>M3A</td>\n",
       "      <td>North York</td>\n",
       "      <td>Parkwoods</td>\n",
       "    </tr>\n",
       "    <tr>\n",
       "      <th>3</th>\n",
       "      <td>M4A</td>\n",
       "      <td>North York</td>\n",
       "      <td>Victoria Village</td>\n",
       "    </tr>\n",
       "    <tr>\n",
       "      <th>4</th>\n",
       "      <td>M5A</td>\n",
       "      <td>Downtown Toronto</td>\n",
       "      <td>Regent Park, Harbourfront</td>\n",
       "    </tr>\n",
       "  </tbody>\n",
       "</table>\n",
       "</div>"
      ],
      "text/plain": [
       "  Postal Code           Borough               Neighborhood\n",
       "0         M1A      Not assigned               Not assigned\n",
       "1         M2A      Not assigned               Not assigned\n",
       "2         M3A        North York                  Parkwoods\n",
       "3         M4A        North York           Victoria Village\n",
       "4         M5A  Downtown Toronto  Regent Park, Harbourfront"
      ]
     },
     "execution_count": 171,
     "metadata": {},
     "output_type": "execute_result"
    }
   ],
   "source": [
    "html = wp.page(\"List of postal codes of Canada: M\").html().encode(\"UTF-8\")\n",
    "df = pd.read_html(html)[0]\n",
    "df.head()"
   ]
  },
  {
   "cell_type": "code",
   "execution_count": 172,
   "metadata": {},
   "outputs": [
    {
     "data": {
      "text/html": [
       "<div>\n",
       "<style scoped>\n",
       "    .dataframe tbody tr th:only-of-type {\n",
       "        vertical-align: middle;\n",
       "    }\n",
       "\n",
       "    .dataframe tbody tr th {\n",
       "        vertical-align: top;\n",
       "    }\n",
       "\n",
       "    .dataframe thead th {\n",
       "        text-align: right;\n",
       "    }\n",
       "</style>\n",
       "<table border=\"1\" class=\"dataframe\">\n",
       "  <thead>\n",
       "    <tr style=\"text-align: right;\">\n",
       "      <th></th>\n",
       "      <th>Postal Code</th>\n",
       "      <th>Borough</th>\n",
       "      <th>Neighborhood</th>\n",
       "    </tr>\n",
       "  </thead>\n",
       "  <tbody>\n",
       "    <tr>\n",
       "      <th>2</th>\n",
       "      <td>M3A</td>\n",
       "      <td>North York</td>\n",
       "      <td>Parkwoods</td>\n",
       "    </tr>\n",
       "    <tr>\n",
       "      <th>3</th>\n",
       "      <td>M4A</td>\n",
       "      <td>North York</td>\n",
       "      <td>Victoria Village</td>\n",
       "    </tr>\n",
       "    <tr>\n",
       "      <th>4</th>\n",
       "      <td>M5A</td>\n",
       "      <td>Downtown Toronto</td>\n",
       "      <td>Regent Park, Harbourfront</td>\n",
       "    </tr>\n",
       "    <tr>\n",
       "      <th>5</th>\n",
       "      <td>M6A</td>\n",
       "      <td>North York</td>\n",
       "      <td>Lawrence Manor, Lawrence Heights</td>\n",
       "    </tr>\n",
       "    <tr>\n",
       "      <th>6</th>\n",
       "      <td>M7A</td>\n",
       "      <td>Downtown Toronto</td>\n",
       "      <td>Queen's Park, Ontario Provincial Government</td>\n",
       "    </tr>\n",
       "  </tbody>\n",
       "</table>\n",
       "</div>"
      ],
      "text/plain": [
       "  Postal Code           Borough                                 Neighborhood\n",
       "2         M3A        North York                                    Parkwoods\n",
       "3         M4A        North York                             Victoria Village\n",
       "4         M5A  Downtown Toronto                    Regent Park, Harbourfront\n",
       "5         M6A        North York             Lawrence Manor, Lawrence Heights\n",
       "6         M7A  Downtown Toronto  Queen's Park, Ontario Provincial Government"
      ]
     },
     "execution_count": 172,
     "metadata": {},
     "output_type": "execute_result"
    }
   ],
   "source": [
    "#delete Borough which is not assigned\n",
    "df = df[df['Borough']!= 'Not assigned']\n",
    "df.head()"
   ]
  },
  {
   "cell_type": "code",
   "execution_count": 173,
   "metadata": {},
   "outputs": [
    {
     "data": {
      "text/plain": [
       "array(['North York', 'Downtown Toronto', 'Etobicoke', 'Scarborough',\n",
       "       'East York', 'York', 'East Toronto', 'West Toronto',\n",
       "       'Central Toronto', 'Mississauga'], dtype=object)"
      ]
     },
     "execution_count": 173,
     "metadata": {},
     "output_type": "execute_result"
    }
   ],
   "source": [
    "df['Borough'].unique()"
   ]
  },
  {
   "cell_type": "code",
   "execution_count": 174,
   "metadata": {},
   "outputs": [
    {
     "data": {
      "text/plain": [
       "array(['Parkwoods', 'Victoria Village', 'Regent Park, Harbourfront',\n",
       "       'Lawrence Manor, Lawrence Heights',\n",
       "       \"Queen's Park, Ontario Provincial Government\",\n",
       "       'Islington Avenue, Humber Valley Village', 'Malvern, Rouge',\n",
       "       'Don Mills', 'Parkview Hill, Woodbine Gardens',\n",
       "       'Garden District, Ryerson', 'Glencairn',\n",
       "       'West Deane Park, Princess Gardens, Martin Grove, Islington, Cloverdale',\n",
       "       'Rouge Hill, Port Union, Highland Creek', 'Woodbine Heights',\n",
       "       'St. James Town', 'Humewood-Cedarvale',\n",
       "       'Eringate, Bloordale Gardens, Old Burnhamthorpe, Markland Wood',\n",
       "       'Guildwood, Morningside, West Hill', 'The Beaches', 'Berczy Park',\n",
       "       'Caledonia-Fairbanks', 'Woburn', 'Leaside', 'Central Bay Street',\n",
       "       'Christie', 'Cedarbrae', 'Hillcrest Village',\n",
       "       'Bathurst Manor, Wilson Heights, Downsview North',\n",
       "       'Thorncliffe Park', 'Richmond, Adelaide, King',\n",
       "       'Dufferin, Dovercourt Village', 'Scarborough Village',\n",
       "       'Fairview, Henry Farm, Oriole', 'Northwood Park, York University',\n",
       "       'East Toronto, Broadview North (Old East York)',\n",
       "       'Harbourfront East, Union Station, Toronto Islands',\n",
       "       'Little Portugal, Trinity',\n",
       "       'Kennedy Park, Ionview, East Birchmount Park', 'Bayview Village',\n",
       "       'Downsview', 'The Danforth West, Riverdale',\n",
       "       'Toronto Dominion Centre, Design Exchange',\n",
       "       'Brockton, Parkdale Village, Exhibition Place',\n",
       "       'Golden Mile, Clairlea, Oakridge', 'York Mills, Silver Hills',\n",
       "       'India Bazaar, The Beaches West', 'Commerce Court, Victoria Hotel',\n",
       "       'North Park, Maple Leaf Park, Upwood Park', 'Humber Summit',\n",
       "       'Cliffside, Cliffcrest, Scarborough Village West',\n",
       "       'Willowdale, Newtonbrook', 'Studio District',\n",
       "       'Bedford Park, Lawrence Manor East',\n",
       "       'Del Ray, Mount Dennis, Keelsdale and Silverthorn',\n",
       "       'Humberlea, Emery', 'Birch Cliff, Cliffside West',\n",
       "       'Willowdale, Willowdale East', 'Lawrence Park', 'Roselawn',\n",
       "       'Runnymede, The Junction North', 'Weston',\n",
       "       'Dorset Park, Wexford Heights, Scarborough Town Centre',\n",
       "       'York Mills West', 'Davisville North',\n",
       "       'Forest Hill North & West, Forest Hill Road Park',\n",
       "       'High Park, The Junction South', 'Westmount', 'Wexford, Maryvale',\n",
       "       'Willowdale, Willowdale West', 'North Toronto West, Lawrence Park',\n",
       "       'The Annex, North Midtown, Yorkville', 'Parkdale, Roncesvalles',\n",
       "       'Canada Post Gateway Processing Centre',\n",
       "       'Kingsview Village, St. Phillips, Martin Grove Gardens, Richview Gardens',\n",
       "       'Agincourt', 'Davisville', 'University of Toronto, Harbord',\n",
       "       'Runnymede, Swansea', \"Clarks Corners, Tam O'Shanter, Sullivan\",\n",
       "       'Moore Park, Summerhill East',\n",
       "       'Kensington Market, Chinatown, Grange Park',\n",
       "       \"Milliken, Agincourt North, Steeles East, L'Amoreaux East\",\n",
       "       'Summerhill West, Rathnelly, South Hill, Forest Hill SE, Deer Park',\n",
       "       'CN Tower, King and Spadina, Railway Lands, Harbourfront West, Bathurst Quay, South Niagara, Island airport',\n",
       "       'New Toronto, Mimico South, Humber Bay Shores',\n",
       "       'South Steeles, Silverstone, Humbergate, Jamestown, Mount Olive, Beaumond Heights, Thistletown, Albion Gardens',\n",
       "       \"Steeles West, L'Amoreaux West\", 'Rosedale', 'Stn A PO Boxes',\n",
       "       'Alderwood, Long Branch', 'Northwest, West Humber - Clairville',\n",
       "       'Upper Rouge', 'St. James Town, Cabbagetown',\n",
       "       'First Canadian Place, Underground city',\n",
       "       'The Kingsway, Montgomery Road, Old Mill North',\n",
       "       'Church and Wellesley',\n",
       "       'Business reply mail Processing Centre, South Central Letter Processing Plant Toronto',\n",
       "       \"Old Mill South, King's Mill Park, Sunnylea, Humber Bay, Mimico NE, The Queensway East, Royal York South East, Kingsway Park South East\",\n",
       "       'Mimico NW, The Queensway West, South of Bloor, Kingsway Park South West, Royal York South West'],\n",
       "      dtype=object)"
      ]
     },
     "execution_count": 174,
     "metadata": {},
     "output_type": "execute_result"
    }
   ],
   "source": [
    "df['Neighborhood'].unique()"
   ]
  },
  {
   "cell_type": "code",
   "execution_count": 175,
   "metadata": {},
   "outputs": [],
   "source": [
    "#combine neighbourhoods where postcode & Borough are the same\n",
    "df = df.groupby(['Postal Code','Borough'])['Neighborhood'].apply(lambda x:', '.join(x)).to_frame().reset_index()"
   ]
  },
  {
   "cell_type": "code",
   "execution_count": 176,
   "metadata": {},
   "outputs": [
    {
     "data": {
      "text/html": [
       "<div>\n",
       "<style scoped>\n",
       "    .dataframe tbody tr th:only-of-type {\n",
       "        vertical-align: middle;\n",
       "    }\n",
       "\n",
       "    .dataframe tbody tr th {\n",
       "        vertical-align: top;\n",
       "    }\n",
       "\n",
       "    .dataframe thead th {\n",
       "        text-align: right;\n",
       "    }\n",
       "</style>\n",
       "<table border=\"1\" class=\"dataframe\">\n",
       "  <thead>\n",
       "    <tr style=\"text-align: right;\">\n",
       "      <th></th>\n",
       "      <th>Postal Code</th>\n",
       "      <th>Borough</th>\n",
       "      <th>Neighborhood</th>\n",
       "    </tr>\n",
       "  </thead>\n",
       "  <tbody>\n",
       "    <tr>\n",
       "      <th>0</th>\n",
       "      <td>M1B</td>\n",
       "      <td>Scarborough</td>\n",
       "      <td>Malvern, Rouge</td>\n",
       "    </tr>\n",
       "    <tr>\n",
       "      <th>1</th>\n",
       "      <td>M1C</td>\n",
       "      <td>Scarborough</td>\n",
       "      <td>Rouge Hill, Port Union, Highland Creek</td>\n",
       "    </tr>\n",
       "    <tr>\n",
       "      <th>2</th>\n",
       "      <td>M1E</td>\n",
       "      <td>Scarborough</td>\n",
       "      <td>Guildwood, Morningside, West Hill</td>\n",
       "    </tr>\n",
       "    <tr>\n",
       "      <th>3</th>\n",
       "      <td>M1G</td>\n",
       "      <td>Scarborough</td>\n",
       "      <td>Woburn</td>\n",
       "    </tr>\n",
       "    <tr>\n",
       "      <th>4</th>\n",
       "      <td>M1H</td>\n",
       "      <td>Scarborough</td>\n",
       "      <td>Cedarbrae</td>\n",
       "    </tr>\n",
       "  </tbody>\n",
       "</table>\n",
       "</div>"
      ],
      "text/plain": [
       "  Postal Code      Borough                            Neighborhood\n",
       "0         M1B  Scarborough                          Malvern, Rouge\n",
       "1         M1C  Scarborough  Rouge Hill, Port Union, Highland Creek\n",
       "2         M1E  Scarborough       Guildwood, Morningside, West Hill\n",
       "3         M1G  Scarborough                                  Woburn\n",
       "4         M1H  Scarborough                               Cedarbrae"
      ]
     },
     "execution_count": 176,
     "metadata": {},
     "output_type": "execute_result"
    }
   ],
   "source": [
    "df.head()"
   ]
  },
  {
   "cell_type": "code",
   "execution_count": 177,
   "metadata": {},
   "outputs": [],
   "source": [
    "for index, row in df.iterrows():\n",
    "    if row['Neighborhood'] == 'Not assigned':\n",
    "        row['Neighborhood'] == df['Borough']\n",
    "    "
   ]
  },
  {
   "cell_type": "code",
   "execution_count": 178,
   "metadata": {},
   "outputs": [],
   "source": [
    "colnames = ['Postcode','Borough','Neighborhood']\n",
    "df.columns = colnames"
   ]
  },
  {
   "cell_type": "code",
   "execution_count": 179,
   "metadata": {},
   "outputs": [
    {
     "data": {
      "text/html": [
       "<div>\n",
       "<style scoped>\n",
       "    .dataframe tbody tr th:only-of-type {\n",
       "        vertical-align: middle;\n",
       "    }\n",
       "\n",
       "    .dataframe tbody tr th {\n",
       "        vertical-align: top;\n",
       "    }\n",
       "\n",
       "    .dataframe thead th {\n",
       "        text-align: right;\n",
       "    }\n",
       "</style>\n",
       "<table border=\"1\" class=\"dataframe\">\n",
       "  <thead>\n",
       "    <tr style=\"text-align: right;\">\n",
       "      <th></th>\n",
       "      <th>Postcode</th>\n",
       "      <th>Borough</th>\n",
       "      <th>Neighborhood</th>\n",
       "    </tr>\n",
       "  </thead>\n",
       "  <tbody>\n",
       "    <tr>\n",
       "      <th>0</th>\n",
       "      <td>M1B</td>\n",
       "      <td>Scarborough</td>\n",
       "      <td>Malvern, Rouge</td>\n",
       "    </tr>\n",
       "    <tr>\n",
       "      <th>1</th>\n",
       "      <td>M1C</td>\n",
       "      <td>Scarborough</td>\n",
       "      <td>Rouge Hill, Port Union, Highland Creek</td>\n",
       "    </tr>\n",
       "    <tr>\n",
       "      <th>2</th>\n",
       "      <td>M1E</td>\n",
       "      <td>Scarborough</td>\n",
       "      <td>Guildwood, Morningside, West Hill</td>\n",
       "    </tr>\n",
       "    <tr>\n",
       "      <th>3</th>\n",
       "      <td>M1G</td>\n",
       "      <td>Scarborough</td>\n",
       "      <td>Woburn</td>\n",
       "    </tr>\n",
       "    <tr>\n",
       "      <th>4</th>\n",
       "      <td>M1H</td>\n",
       "      <td>Scarborough</td>\n",
       "      <td>Cedarbrae</td>\n",
       "    </tr>\n",
       "  </tbody>\n",
       "</table>\n",
       "</div>"
      ],
      "text/plain": [
       "  Postcode      Borough                            Neighborhood\n",
       "0      M1B  Scarborough                          Malvern, Rouge\n",
       "1      M1C  Scarborough  Rouge Hill, Port Union, Highland Creek\n",
       "2      M1E  Scarborough       Guildwood, Morningside, West Hill\n",
       "3      M1G  Scarborough                                  Woburn\n",
       "4      M1H  Scarborough                               Cedarbrae"
      ]
     },
     "execution_count": 179,
     "metadata": {},
     "output_type": "execute_result"
    }
   ],
   "source": [
    "df.head()"
   ]
  },
  {
   "cell_type": "markdown",
   "metadata": {},
   "source": [
    "# Add geographical coordinates to the neighborhoods"
   ]
  },
  {
   "cell_type": "code",
   "execution_count": 180,
   "metadata": {},
   "outputs": [
    {
     "data": {
      "text/html": [
       "<div>\n",
       "<style scoped>\n",
       "    .dataframe tbody tr th:only-of-type {\n",
       "        vertical-align: middle;\n",
       "    }\n",
       "\n",
       "    .dataframe tbody tr th {\n",
       "        vertical-align: top;\n",
       "    }\n",
       "\n",
       "    .dataframe thead th {\n",
       "        text-align: right;\n",
       "    }\n",
       "</style>\n",
       "<table border=\"1\" class=\"dataframe\">\n",
       "  <thead>\n",
       "    <tr style=\"text-align: right;\">\n",
       "      <th></th>\n",
       "      <th>Postal Code</th>\n",
       "      <th>Latitude</th>\n",
       "      <th>Longitude</th>\n",
       "    </tr>\n",
       "  </thead>\n",
       "  <tbody>\n",
       "    <tr>\n",
       "      <th>0</th>\n",
       "      <td>M1B</td>\n",
       "      <td>43.806686</td>\n",
       "      <td>-79.194353</td>\n",
       "    </tr>\n",
       "    <tr>\n",
       "      <th>1</th>\n",
       "      <td>M1C</td>\n",
       "      <td>43.784535</td>\n",
       "      <td>-79.160497</td>\n",
       "    </tr>\n",
       "    <tr>\n",
       "      <th>2</th>\n",
       "      <td>M1E</td>\n",
       "      <td>43.763573</td>\n",
       "      <td>-79.188711</td>\n",
       "    </tr>\n",
       "    <tr>\n",
       "      <th>3</th>\n",
       "      <td>M1G</td>\n",
       "      <td>43.770992</td>\n",
       "      <td>-79.216917</td>\n",
       "    </tr>\n",
       "    <tr>\n",
       "      <th>4</th>\n",
       "      <td>M1H</td>\n",
       "      <td>43.773136</td>\n",
       "      <td>-79.239476</td>\n",
       "    </tr>\n",
       "  </tbody>\n",
       "</table>\n",
       "</div>"
      ],
      "text/plain": [
       "  Postal Code   Latitude  Longitude\n",
       "0         M1B  43.806686 -79.194353\n",
       "1         M1C  43.784535 -79.160497\n",
       "2         M1E  43.763573 -79.188711\n",
       "3         M1G  43.770992 -79.216917\n",
       "4         M1H  43.773136 -79.239476"
      ]
     },
     "execution_count": 180,
     "metadata": {},
     "output_type": "execute_result"
    }
   ],
   "source": [
    "import pandas as pd\n",
    "import io\n",
    "import requests\n",
    "\n",
    "url=\"https://cocl.us/Geospatial_data\"\n",
    "s=requests.get(url).content #bytes\n",
    "lat_lng=pd.read_csv(io.StringIO(s.decode('utf-8'))) #s.decode: change bytes to string to _io.StringIO\n",
    "lat_lng.head()"
   ]
  },
  {
   "cell_type": "code",
   "execution_count": 181,
   "metadata": {},
   "outputs": [
    {
     "data": {
      "text/html": [
       "<div>\n",
       "<style scoped>\n",
       "    .dataframe tbody tr th:only-of-type {\n",
       "        vertical-align: middle;\n",
       "    }\n",
       "\n",
       "    .dataframe tbody tr th {\n",
       "        vertical-align: top;\n",
       "    }\n",
       "\n",
       "    .dataframe thead th {\n",
       "        text-align: right;\n",
       "    }\n",
       "</style>\n",
       "<table border=\"1\" class=\"dataframe\">\n",
       "  <thead>\n",
       "    <tr style=\"text-align: right;\">\n",
       "      <th></th>\n",
       "      <th>Postcode</th>\n",
       "      <th>Borough</th>\n",
       "      <th>Neighborhood</th>\n",
       "      <th>Latitude</th>\n",
       "      <th>Longitude</th>\n",
       "    </tr>\n",
       "  </thead>\n",
       "  <tbody>\n",
       "    <tr>\n",
       "      <th>0</th>\n",
       "      <td>M1B</td>\n",
       "      <td>Scarborough</td>\n",
       "      <td>Malvern, Rouge</td>\n",
       "      <td>43.806686</td>\n",
       "      <td>-79.194353</td>\n",
       "    </tr>\n",
       "    <tr>\n",
       "      <th>1</th>\n",
       "      <td>M1C</td>\n",
       "      <td>Scarborough</td>\n",
       "      <td>Rouge Hill, Port Union, Highland Creek</td>\n",
       "      <td>43.784535</td>\n",
       "      <td>-79.160497</td>\n",
       "    </tr>\n",
       "    <tr>\n",
       "      <th>2</th>\n",
       "      <td>M1E</td>\n",
       "      <td>Scarborough</td>\n",
       "      <td>Guildwood, Morningside, West Hill</td>\n",
       "      <td>43.763573</td>\n",
       "      <td>-79.188711</td>\n",
       "    </tr>\n",
       "    <tr>\n",
       "      <th>3</th>\n",
       "      <td>M1G</td>\n",
       "      <td>Scarborough</td>\n",
       "      <td>Woburn</td>\n",
       "      <td>43.770992</td>\n",
       "      <td>-79.216917</td>\n",
       "    </tr>\n",
       "    <tr>\n",
       "      <th>4</th>\n",
       "      <td>M1H</td>\n",
       "      <td>Scarborough</td>\n",
       "      <td>Cedarbrae</td>\n",
       "      <td>43.773136</td>\n",
       "      <td>-79.239476</td>\n",
       "    </tr>\n",
       "  </tbody>\n",
       "</table>\n",
       "</div>"
      ],
      "text/plain": [
       "  Postcode      Borough                            Neighborhood   Latitude  \\\n",
       "0      M1B  Scarborough                          Malvern, Rouge  43.806686   \n",
       "1      M1C  Scarborough  Rouge Hill, Port Union, Highland Creek  43.784535   \n",
       "2      M1E  Scarborough       Guildwood, Morningside, West Hill  43.763573   \n",
       "3      M1G  Scarborough                                  Woburn  43.770992   \n",
       "4      M1H  Scarborough                               Cedarbrae  43.773136   \n",
       "\n",
       "   Longitude  \n",
       "0 -79.194353  \n",
       "1 -79.160497  \n",
       "2 -79.188711  \n",
       "3 -79.216917  \n",
       "4 -79.239476  "
      ]
     },
     "execution_count": 181,
     "metadata": {},
     "output_type": "execute_result"
    }
   ],
   "source": [
    "#merge lat_lng to df\n",
    "lat_lng = lat_lng.rename(columns={'Postal Code':'Postcode'})\n",
    "toronto_df = pd.merge(df, lat_lng, on='Postcode')\n",
    "toronto_df.head()"
   ]
  },
  {
   "cell_type": "code",
   "execution_count": 182,
   "metadata": {},
   "outputs": [
    {
     "name": "stdout",
     "output_type": "stream",
     "text": [
      "The dataframe has 10 boroughs and 103 neighborhoods.\n"
     ]
    }
   ],
   "source": [
    "print('The dataframe has {} boroughs and {} neighborhoods.'.format(\n",
    "       len(toronto_df['Borough'].unique()),\n",
    "       toronto_df.shape[0]))  # shape check the dimension of df(n,m)"
   ]
  },
  {
   "cell_type": "markdown",
   "metadata": {},
   "source": [
    "# Scrap the distribution of population from wilipedia"
   ]
  },
  {
   "cell_type": "code",
   "execution_count": 183,
   "metadata": {},
   "outputs": [],
   "source": [
    "html = wp.page('Demographics of Toronto').html().encode('UTF-8')"
   ]
  },
  {
   "cell_type": "code",
   "execution_count": 184,
   "metadata": {},
   "outputs": [],
   "source": [
    "demo_df = pd.read_html(html)\n",
    "demo_df = pd.DataFrame(demo_df)[0]"
   ]
  },
  {
   "cell_type": "code",
   "execution_count": 185,
   "metadata": {},
   "outputs": [
    {
     "data": {
      "text/html": [
       "<div>\n",
       "<style scoped>\n",
       "    .dataframe tbody tr th:only-of-type {\n",
       "        vertical-align: middle;\n",
       "    }\n",
       "\n",
       "    .dataframe tbody tr th {\n",
       "        vertical-align: top;\n",
       "    }\n",
       "\n",
       "    .dataframe thead th {\n",
       "        text-align: right;\n",
       "    }\n",
       "</style>\n",
       "<table border=\"1\" class=\"dataframe\">\n",
       "  <thead>\n",
       "    <tr style=\"text-align: right;\">\n",
       "      <th></th>\n",
       "      <th>Riding</th>\n",
       "      <th>Population</th>\n",
       "      <th>Ethnic Origin #1</th>\n",
       "      <th>%</th>\n",
       "      <th>Ethnic Origin #2</th>\n",
       "      <th>%.1</th>\n",
       "      <th>Ethnic Origin #3</th>\n",
       "      <th>%.2</th>\n",
       "      <th>Ethnic Origin #4</th>\n",
       "      <th>%.3</th>\n",
       "      <th>Ethnic Origin #5</th>\n",
       "      <th>%.4</th>\n",
       "      <th>Ethnic Origin #6</th>\n",
       "      <th>%.5</th>\n",
       "      <th>Ethnic Origin #7</th>\n",
       "      <th>%.6</th>\n",
       "      <th>Ethnic Origin #8</th>\n",
       "      <th>%.7</th>\n",
       "      <th>Ethnic Origin #9</th>\n",
       "      <th>%.8</th>\n",
       "    </tr>\n",
       "  </thead>\n",
       "  <tbody>\n",
       "    <tr>\n",
       "      <th>0</th>\n",
       "      <td>Spadina-Fort York</td>\n",
       "      <td>114315</td>\n",
       "      <td>English</td>\n",
       "      <td>16.4</td>\n",
       "      <td>Chinese</td>\n",
       "      <td>16.0</td>\n",
       "      <td>Irish</td>\n",
       "      <td>14.6</td>\n",
       "      <td>Canadian</td>\n",
       "      <td>14.0</td>\n",
       "      <td>Scottish</td>\n",
       "      <td>13.2</td>\n",
       "      <td>French</td>\n",
       "      <td>7.70</td>\n",
       "      <td>German</td>\n",
       "      <td>7.6</td>\n",
       "      <td>NaN</td>\n",
       "      <td>NaN</td>\n",
       "      <td>NaN</td>\n",
       "      <td>NaN</td>\n",
       "    </tr>\n",
       "    <tr>\n",
       "      <th>1</th>\n",
       "      <td>Beaches-East York</td>\n",
       "      <td>108435</td>\n",
       "      <td>English</td>\n",
       "      <td>24.2</td>\n",
       "      <td>Irish</td>\n",
       "      <td>19.9</td>\n",
       "      <td>Canadian</td>\n",
       "      <td>19.7</td>\n",
       "      <td>Scottish</td>\n",
       "      <td>18.9</td>\n",
       "      <td>French</td>\n",
       "      <td>8.7</td>\n",
       "      <td>German</td>\n",
       "      <td>8.40</td>\n",
       "      <td>NaN</td>\n",
       "      <td>NaN</td>\n",
       "      <td>NaN</td>\n",
       "      <td>NaN</td>\n",
       "      <td>NaN</td>\n",
       "      <td>NaN</td>\n",
       "    </tr>\n",
       "    <tr>\n",
       "      <th>2</th>\n",
       "      <td>Davenport</td>\n",
       "      <td>107395</td>\n",
       "      <td>Portuguese</td>\n",
       "      <td>22.7</td>\n",
       "      <td>English</td>\n",
       "      <td>13.6</td>\n",
       "      <td>Canadian</td>\n",
       "      <td>12.8</td>\n",
       "      <td>Irish</td>\n",
       "      <td>11.5</td>\n",
       "      <td>Italian</td>\n",
       "      <td>11.1</td>\n",
       "      <td>Scottish</td>\n",
       "      <td>11.00</td>\n",
       "      <td>NaN</td>\n",
       "      <td>NaN</td>\n",
       "      <td>NaN</td>\n",
       "      <td>NaN</td>\n",
       "      <td>NaN</td>\n",
       "      <td>NaN</td>\n",
       "    </tr>\n",
       "    <tr>\n",
       "      <th>3</th>\n",
       "      <td>Parkdale-High Park</td>\n",
       "      <td>106445</td>\n",
       "      <td>English</td>\n",
       "      <td>22.3</td>\n",
       "      <td>Irish</td>\n",
       "      <td>20.0</td>\n",
       "      <td>Scottish</td>\n",
       "      <td>18.7</td>\n",
       "      <td>Canadian</td>\n",
       "      <td>16.1</td>\n",
       "      <td>German</td>\n",
       "      <td>9.8</td>\n",
       "      <td>French</td>\n",
       "      <td>8.88</td>\n",
       "      <td>Polish</td>\n",
       "      <td>8.5</td>\n",
       "      <td>NaN</td>\n",
       "      <td>NaN</td>\n",
       "      <td>NaN</td>\n",
       "      <td>NaN</td>\n",
       "    </tr>\n",
       "    <tr>\n",
       "      <th>4</th>\n",
       "      <td>Toronto-Danforth</td>\n",
       "      <td>105395</td>\n",
       "      <td>English</td>\n",
       "      <td>22.9</td>\n",
       "      <td>Irish</td>\n",
       "      <td>19.5</td>\n",
       "      <td>Scottish</td>\n",
       "      <td>18.7</td>\n",
       "      <td>Canadian</td>\n",
       "      <td>18.4</td>\n",
       "      <td>Chinese</td>\n",
       "      <td>13.8</td>\n",
       "      <td>French</td>\n",
       "      <td>8.86</td>\n",
       "      <td>German</td>\n",
       "      <td>8.8</td>\n",
       "      <td>Greek</td>\n",
       "      <td>7.3</td>\n",
       "      <td>NaN</td>\n",
       "      <td>NaN</td>\n",
       "    </tr>\n",
       "    <tr>\n",
       "      <th>5</th>\n",
       "      <td>Toronto-St. Paul's</td>\n",
       "      <td>104940</td>\n",
       "      <td>English</td>\n",
       "      <td>18.5</td>\n",
       "      <td>Canadian</td>\n",
       "      <td>16.1</td>\n",
       "      <td>Irish</td>\n",
       "      <td>15.2</td>\n",
       "      <td>Scottish</td>\n",
       "      <td>14.8</td>\n",
       "      <td>Polish</td>\n",
       "      <td>10.3</td>\n",
       "      <td>German</td>\n",
       "      <td>7.90</td>\n",
       "      <td>Russian</td>\n",
       "      <td>7.7</td>\n",
       "      <td>Italian</td>\n",
       "      <td>7.3</td>\n",
       "      <td>French</td>\n",
       "      <td>7.2</td>\n",
       "    </tr>\n",
       "    <tr>\n",
       "      <th>6</th>\n",
       "      <td>University-Rosedale</td>\n",
       "      <td>100520</td>\n",
       "      <td>English</td>\n",
       "      <td>20.6</td>\n",
       "      <td>Irish</td>\n",
       "      <td>16.6</td>\n",
       "      <td>Scottish</td>\n",
       "      <td>16.3</td>\n",
       "      <td>Canadian</td>\n",
       "      <td>15.2</td>\n",
       "      <td>Chinese</td>\n",
       "      <td>14.7</td>\n",
       "      <td>German</td>\n",
       "      <td>8.70</td>\n",
       "      <td>French</td>\n",
       "      <td>7.7</td>\n",
       "      <td>Italian</td>\n",
       "      <td>7.4</td>\n",
       "      <td>NaN</td>\n",
       "      <td>NaN</td>\n",
       "    </tr>\n",
       "    <tr>\n",
       "      <th>7</th>\n",
       "      <td>Toronto Centre</td>\n",
       "      <td>99590</td>\n",
       "      <td>English</td>\n",
       "      <td>15.7</td>\n",
       "      <td>Canadian</td>\n",
       "      <td>13.7</td>\n",
       "      <td>Irish</td>\n",
       "      <td>13.4</td>\n",
       "      <td>Scottish</td>\n",
       "      <td>12.6</td>\n",
       "      <td>Chinese</td>\n",
       "      <td>12.5</td>\n",
       "      <td>French</td>\n",
       "      <td>7.20</td>\n",
       "      <td>NaN</td>\n",
       "      <td>NaN</td>\n",
       "      <td>NaN</td>\n",
       "      <td>NaN</td>\n",
       "      <td>NaN</td>\n",
       "      <td>NaN</td>\n",
       "    </tr>\n",
       "  </tbody>\n",
       "</table>\n",
       "</div>"
      ],
      "text/plain": [
       "                Riding  Population Ethnic Origin #1     % Ethnic Origin #2  \\\n",
       "0    Spadina-Fort York      114315          English  16.4          Chinese   \n",
       "1    Beaches-East York      108435          English  24.2            Irish   \n",
       "2            Davenport      107395       Portuguese  22.7          English   \n",
       "3   Parkdale-High Park      106445          English  22.3            Irish   \n",
       "4     Toronto-Danforth      105395          English  22.9            Irish   \n",
       "5   Toronto-St. Paul's      104940          English  18.5         Canadian   \n",
       "6  University-Rosedale      100520          English  20.6            Irish   \n",
       "7       Toronto Centre       99590          English  15.7         Canadian   \n",
       "\n",
       "    %.1 Ethnic Origin #3   %.2 Ethnic Origin #4   %.3 Ethnic Origin #5   %.4  \\\n",
       "0  16.0            Irish  14.6         Canadian  14.0         Scottish  13.2   \n",
       "1  19.9         Canadian  19.7         Scottish  18.9           French   8.7   \n",
       "2  13.6         Canadian  12.8            Irish  11.5          Italian  11.1   \n",
       "3  20.0         Scottish  18.7         Canadian  16.1           German   9.8   \n",
       "4  19.5         Scottish  18.7         Canadian  18.4          Chinese  13.8   \n",
       "5  16.1            Irish  15.2         Scottish  14.8           Polish  10.3   \n",
       "6  16.6         Scottish  16.3         Canadian  15.2          Chinese  14.7   \n",
       "7  13.7            Irish  13.4         Scottish  12.6          Chinese  12.5   \n",
       "\n",
       "  Ethnic Origin #6    %.5 Ethnic Origin #7  %.6 Ethnic Origin #8  %.7  \\\n",
       "0           French   7.70           German  7.6              NaN  NaN   \n",
       "1           German   8.40              NaN  NaN              NaN  NaN   \n",
       "2         Scottish  11.00              NaN  NaN              NaN  NaN   \n",
       "3           French   8.88           Polish  8.5              NaN  NaN   \n",
       "4           French   8.86           German  8.8            Greek  7.3   \n",
       "5           German   7.90          Russian  7.7          Italian  7.3   \n",
       "6           German   8.70           French  7.7          Italian  7.4   \n",
       "7           French   7.20              NaN  NaN              NaN  NaN   \n",
       "\n",
       "  Ethnic Origin #9  %.8  \n",
       "0              NaN  NaN  \n",
       "1              NaN  NaN  \n",
       "2              NaN  NaN  \n",
       "3              NaN  NaN  \n",
       "4              NaN  NaN  \n",
       "5           French  7.2  \n",
       "6              NaN  NaN  \n",
       "7              NaN  NaN  "
      ]
     },
     "execution_count": 185,
     "metadata": {},
     "output_type": "execute_result"
    }
   ],
   "source": [
    "#TORONTO & EAST YORK\n",
    "TE  = demo_df[12]\n",
    "TE"
   ]
  },
  {
   "cell_type": "code",
   "execution_count": 186,
   "metadata": {},
   "outputs": [],
   "source": [
    "#NORTH YORK\n",
    "NY = demo_df[13]"
   ]
  },
  {
   "cell_type": "code",
   "execution_count": 187,
   "metadata": {},
   "outputs": [],
   "source": [
    "#SCARBOROUGH\n",
    "S = demo_df[14]"
   ]
  },
  {
   "cell_type": "code",
   "execution_count": 188,
   "metadata": {},
   "outputs": [],
   "source": [
    "#ETOBICOKE & YORK\n",
    "EY = demo_df[15]"
   ]
  },
  {
   "cell_type": "code",
   "execution_count": 189,
   "metadata": {},
   "outputs": [
    {
     "data": {
      "text/plain": [
       "array(['Scarborough', 'North York', 'East York', 'East Toronto',\n",
       "       'Central Toronto', 'Downtown Toronto', 'York', 'West Toronto',\n",
       "       'Mississauga', 'Etobicoke'], dtype=object)"
      ]
     },
     "execution_count": 189,
     "metadata": {},
     "output_type": "execute_result"
    }
   ],
   "source": [
    "toronto_df['Borough'].unique()"
   ]
  },
  {
   "cell_type": "markdown",
   "metadata": {},
   "source": [
    "# Get location data using Foursquare"
   ]
  },
  {
   "cell_type": "code",
   "execution_count": 190,
   "metadata": {},
   "outputs": [
    {
     "name": "stdout",
     "output_type": "stream",
     "text": [
      "The geograpical coordinate of Toronto are 43.6534817, -79.3839347.\n"
     ]
    }
   ],
   "source": [
    "#Get geographical coordinate of Toronto\n",
    "address = 'Toronto'\n",
    "\n",
    "geolocator = Nominatim(user_agent = 'ny_explorer')\n",
    "location = geolocator.geocode(address)\n",
    "latitude = location.latitude\n",
    "longitude = location.longitude\n",
    "print('The geograpical coordinate of Toronto are {}, {}.'.format(latitude, longitude))\n"
   ]
  },
  {
   "cell_type": "code",
   "execution_count": 191,
   "metadata": {},
   "outputs": [
    {
     "name": "stdout",
     "output_type": "stream",
     "text": [
      "Your credentails:\n",
      "CLIENT_ID: JIWNG1XSMPPPJ0HOWZQRGS2JPXEK4SLLHWJKQSEVROTFQRTE\n",
      "CLIENT_SECRET:F143M2VMJGAH2GAD1WAVSR22CEMUYQATH5UET0PJSCHQWABZ\n"
     ]
    },
    {
     "data": {
      "text/plain": [
       "'https://api.foursquare.com/v2/venues/search?client_id=JIWNG1XSMPPPJ0HOWZQRGS2JPXEK4SLLHWJKQSEVROTFQRTE&client_secret=F143M2VMJGAH2GAD1WAVSR22CEMUYQATH5UET0PJSCHQWABZ&ll=43.6534817,-79.3839347&v=20180604&radius=500&limit=100'"
      ]
     },
     "execution_count": 191,
     "metadata": {},
     "output_type": "execute_result"
    }
   ],
   "source": [
    "#Connect Foursquare\n",
    "CLIENT_ID = 'JIWNG1XSMPPPJ0HOWZQRGS2JPXEK4SLLHWJKQSEVROTFQRTE' # your Foursquare ID\n",
    "CLIENT_SECRET = 'F143M2VMJGAH2GAD1WAVSR22CEMUYQATH5UET0PJSCHQWABZ' # your Foursquare Secret\n",
    "VERSION = '20180604'\n",
    "LIMIT = 100\n",
    "print('Your credentails:')\n",
    "print('CLIENT_ID: ' + CLIENT_ID)\n",
    "print('CLIENT_SECRET:' + CLIENT_SECRET)\n",
    "radius = 500\n",
    "#print(search_query + ' .... OK!')\n",
    "\n",
    "url = 'https://api.foursquare.com/v2/venues/search?client_id={}&client_secret={}&ll={},{}&v={}&radius={}&limit={}'.format(CLIENT_ID, CLIENT_SECRET, latitude, longitude, VERSION, radius, LIMIT)\n",
    "url"
   ]
  },
  {
   "cell_type": "code",
   "execution_count": 192,
   "metadata": {},
   "outputs": [],
   "source": [
    "def get_category_type(row):\n",
    "    try:\n",
    "        categories_list = row['categories']\n",
    "    except:\n",
    "        categories_list = row['venue.categories']\n",
    "        \n",
    "    if len(categories_list) == 0:\n",
    "        return None\n",
    "    else:\n",
    "        return categories_list[0]['name']"
   ]
  },
  {
   "cell_type": "code",
   "execution_count": 193,
   "metadata": {},
   "outputs": [
    {
     "data": {
      "text/html": [
       "<div>\n",
       "<style scoped>\n",
       "    .dataframe tbody tr th:only-of-type {\n",
       "        vertical-align: middle;\n",
       "    }\n",
       "\n",
       "    .dataframe tbody tr th {\n",
       "        vertical-align: top;\n",
       "    }\n",
       "\n",
       "    .dataframe thead th {\n",
       "        text-align: right;\n",
       "    }\n",
       "</style>\n",
       "<table border=\"1\" class=\"dataframe\">\n",
       "  <thead>\n",
       "    <tr style=\"text-align: right;\">\n",
       "      <th></th>\n",
       "      <th>categories</th>\n",
       "      <th>hasPerk</th>\n",
       "      <th>id</th>\n",
       "      <th>location.address</th>\n",
       "      <th>location.cc</th>\n",
       "      <th>location.city</th>\n",
       "      <th>location.country</th>\n",
       "      <th>location.crossStreet</th>\n",
       "      <th>location.distance</th>\n",
       "      <th>location.formattedAddress</th>\n",
       "      <th>location.labeledLatLngs</th>\n",
       "      <th>location.lat</th>\n",
       "      <th>location.lng</th>\n",
       "      <th>location.postalCode</th>\n",
       "      <th>location.state</th>\n",
       "      <th>name</th>\n",
       "      <th>referralId</th>\n",
       "    </tr>\n",
       "  </thead>\n",
       "  <tbody>\n",
       "    <tr>\n",
       "      <th>0</th>\n",
       "      <td>[{'id': '4bf58dd8d48988d129941735', 'name': 'C...</td>\n",
       "      <td>False</td>\n",
       "      <td>4c093ee0340720a153728493</td>\n",
       "      <td>NaN</td>\n",
       "      <td>CA</td>\n",
       "      <td>NaN</td>\n",
       "      <td>Canada</td>\n",
       "      <td>NaN</td>\n",
       "      <td>184</td>\n",
       "      <td>[Canada]</td>\n",
       "      <td>[{'label': 'display', 'lat': 43.65182710471462...</td>\n",
       "      <td>43.651827</td>\n",
       "      <td>-79.383949</td>\n",
       "      <td>NaN</td>\n",
       "      <td>NaN</td>\n",
       "      <td>City Hall Council Chambers</td>\n",
       "      <td>v-1591253247</td>\n",
       "    </tr>\n",
       "    <tr>\n",
       "      <th>1</th>\n",
       "      <td>[{'id': '4bf58dd8d48988d129941735', 'name': 'C...</td>\n",
       "      <td>False</td>\n",
       "      <td>4ad4c05ef964a5208ff620e3</td>\n",
       "      <td>100 Queen St. W.</td>\n",
       "      <td>CA</td>\n",
       "      <td>Toronto</td>\n",
       "      <td>Canada</td>\n",
       "      <td>at Bay St.</td>\n",
       "      <td>38</td>\n",
       "      <td>[100 Queen St. W. (at Bay St.), Toronto ON M5H...</td>\n",
       "      <td>[{'label': 'display', 'lat': 43.65313989695342...</td>\n",
       "      <td>43.653140</td>\n",
       "      <td>-79.383967</td>\n",
       "      <td>M5H 2N2</td>\n",
       "      <td>ON</td>\n",
       "      <td>Toronto City Hall</td>\n",
       "      <td>v-1591253247</td>\n",
       "    </tr>\n",
       "    <tr>\n",
       "      <th>2</th>\n",
       "      <td>[{'id': '4bf58dd8d48988d129941735', 'name': 'C...</td>\n",
       "      <td>False</td>\n",
       "      <td>5b193c42598e64002ca79b96</td>\n",
       "      <td>100 Queen St W</td>\n",
       "      <td>CA</td>\n",
       "      <td>Toronto</td>\n",
       "      <td>Canada</td>\n",
       "      <td>NaN</td>\n",
       "      <td>3</td>\n",
       "      <td>[100 Queen St W, Toronto ON M5H 2N2, Canada]</td>\n",
       "      <td>[{'label': 'display', 'lat': 43.653454, 'lng':...</td>\n",
       "      <td>43.653454</td>\n",
       "      <td>-79.383952</td>\n",
       "      <td>M5H 2N2</td>\n",
       "      <td>ON</td>\n",
       "      <td>City of Toronto Civic Innovation Office</td>\n",
       "      <td>v-1591253247</td>\n",
       "    </tr>\n",
       "    <tr>\n",
       "      <th>3</th>\n",
       "      <td>[{'id': '4bf58dd8d48988d15a941735', 'name': 'G...</td>\n",
       "      <td>False</td>\n",
       "      <td>4c0121fd9a950f47fa9208c6</td>\n",
       "      <td>100 Queen Street West</td>\n",
       "      <td>CA</td>\n",
       "      <td>Toronto</td>\n",
       "      <td>Canada</td>\n",
       "      <td>NaN</td>\n",
       "      <td>6</td>\n",
       "      <td>[100 Queen Street West, Toronto ON, Canada]</td>\n",
       "      <td>[{'label': 'display', 'lat': 43.65350358617817...</td>\n",
       "      <td>43.653504</td>\n",
       "      <td>-79.383866</td>\n",
       "      <td>NaN</td>\n",
       "      <td>ON</td>\n",
       "      <td>City Hall Podium Green Roof</td>\n",
       "      <td>v-1591253247</td>\n",
       "    </tr>\n",
       "    <tr>\n",
       "      <th>4</th>\n",
       "      <td>[{'id': '4bf58dd8d48988d162941735', 'name': 'O...</td>\n",
       "      <td>False</td>\n",
       "      <td>4fa43f81e4b098f42a5681a1</td>\n",
       "      <td>Nathan Phillips Square</td>\n",
       "      <td>CA</td>\n",
       "      <td>Toronto</td>\n",
       "      <td>Canada</td>\n",
       "      <td>NaN</td>\n",
       "      <td>95</td>\n",
       "      <td>[Nathan Phillips Square, Toronto ON, Canada]</td>\n",
       "      <td>[{'label': 'display', 'lat': 43.652622, 'lng':...</td>\n",
       "      <td>43.652622</td>\n",
       "      <td>-79.383923</td>\n",
       "      <td>NaN</td>\n",
       "      <td>ON</td>\n",
       "      <td>the Archer / Three-Way Piece No. 2</td>\n",
       "      <td>v-1591253247</td>\n",
       "    </tr>\n",
       "  </tbody>\n",
       "</table>\n",
       "</div>"
      ],
      "text/plain": [
       "                                          categories  hasPerk  \\\n",
       "0  [{'id': '4bf58dd8d48988d129941735', 'name': 'C...    False   \n",
       "1  [{'id': '4bf58dd8d48988d129941735', 'name': 'C...    False   \n",
       "2  [{'id': '4bf58dd8d48988d129941735', 'name': 'C...    False   \n",
       "3  [{'id': '4bf58dd8d48988d15a941735', 'name': 'G...    False   \n",
       "4  [{'id': '4bf58dd8d48988d162941735', 'name': 'O...    False   \n",
       "\n",
       "                         id        location.address location.cc location.city  \\\n",
       "0  4c093ee0340720a153728493                     NaN          CA           NaN   \n",
       "1  4ad4c05ef964a5208ff620e3        100 Queen St. W.          CA       Toronto   \n",
       "2  5b193c42598e64002ca79b96          100 Queen St W          CA       Toronto   \n",
       "3  4c0121fd9a950f47fa9208c6   100 Queen Street West          CA       Toronto   \n",
       "4  4fa43f81e4b098f42a5681a1  Nathan Phillips Square          CA       Toronto   \n",
       "\n",
       "  location.country location.crossStreet  location.distance  \\\n",
       "0           Canada                  NaN                184   \n",
       "1           Canada           at Bay St.                 38   \n",
       "2           Canada                  NaN                  3   \n",
       "3           Canada                  NaN                  6   \n",
       "4           Canada                  NaN                 95   \n",
       "\n",
       "                           location.formattedAddress  \\\n",
       "0                                           [Canada]   \n",
       "1  [100 Queen St. W. (at Bay St.), Toronto ON M5H...   \n",
       "2       [100 Queen St W, Toronto ON M5H 2N2, Canada]   \n",
       "3        [100 Queen Street West, Toronto ON, Canada]   \n",
       "4       [Nathan Phillips Square, Toronto ON, Canada]   \n",
       "\n",
       "                             location.labeledLatLngs  location.lat  \\\n",
       "0  [{'label': 'display', 'lat': 43.65182710471462...     43.651827   \n",
       "1  [{'label': 'display', 'lat': 43.65313989695342...     43.653140   \n",
       "2  [{'label': 'display', 'lat': 43.653454, 'lng':...     43.653454   \n",
       "3  [{'label': 'display', 'lat': 43.65350358617817...     43.653504   \n",
       "4  [{'label': 'display', 'lat': 43.652622, 'lng':...     43.652622   \n",
       "\n",
       "   location.lng location.postalCode location.state  \\\n",
       "0    -79.383949                 NaN            NaN   \n",
       "1    -79.383967             M5H 2N2             ON   \n",
       "2    -79.383952             M5H 2N2             ON   \n",
       "3    -79.383866                 NaN             ON   \n",
       "4    -79.383923                 NaN             ON   \n",
       "\n",
       "                                      name    referralId  \n",
       "0               City Hall Council Chambers  v-1591253247  \n",
       "1                        Toronto City Hall  v-1591253247  \n",
       "2  City of Toronto Civic Innovation Office  v-1591253247  \n",
       "3              City Hall Podium Green Roof  v-1591253247  \n",
       "4       the Archer / Three-Way Piece No. 2  v-1591253247  "
      ]
     },
     "execution_count": 193,
     "metadata": {},
     "output_type": "execute_result"
    }
   ],
   "source": [
    "#Send the GET request and examine the results\n",
    "results = requests.get(url).json()\n",
    "results\n",
    "\n",
    "# assign relevant part of JSON to venues\n",
    "venues = results['response']['venues']\n",
    "\n",
    "# tranform venues into a dataframe\n",
    "dataframe = json_normalize(venues)\n",
    "dataframe.head()"
   ]
  },
  {
   "cell_type": "code",
   "execution_count": 194,
   "metadata": {},
   "outputs": [
    {
     "data": {
      "text/html": [
       "<div>\n",
       "<style scoped>\n",
       "    .dataframe tbody tr th:only-of-type {\n",
       "        vertical-align: middle;\n",
       "    }\n",
       "\n",
       "    .dataframe tbody tr th {\n",
       "        vertical-align: top;\n",
       "    }\n",
       "\n",
       "    .dataframe thead th {\n",
       "        text-align: right;\n",
       "    }\n",
       "</style>\n",
       "<table border=\"1\" class=\"dataframe\">\n",
       "  <thead>\n",
       "    <tr style=\"text-align: right;\">\n",
       "      <th></th>\n",
       "      <th>name</th>\n",
       "      <th>categories</th>\n",
       "      <th>address</th>\n",
       "      <th>cc</th>\n",
       "      <th>city</th>\n",
       "      <th>country</th>\n",
       "      <th>crossStreet</th>\n",
       "      <th>distance</th>\n",
       "      <th>formattedAddress</th>\n",
       "      <th>labeledLatLngs</th>\n",
       "      <th>lat</th>\n",
       "      <th>lng</th>\n",
       "      <th>postalCode</th>\n",
       "      <th>state</th>\n",
       "      <th>id</th>\n",
       "    </tr>\n",
       "  </thead>\n",
       "  <tbody>\n",
       "    <tr>\n",
       "      <th>0</th>\n",
       "      <td>City Hall Council Chambers</td>\n",
       "      <td>City Hall</td>\n",
       "      <td>NaN</td>\n",
       "      <td>CA</td>\n",
       "      <td>NaN</td>\n",
       "      <td>Canada</td>\n",
       "      <td>NaN</td>\n",
       "      <td>184</td>\n",
       "      <td>[Canada]</td>\n",
       "      <td>[{'label': 'display', 'lat': 43.65182710471462...</td>\n",
       "      <td>43.651827</td>\n",
       "      <td>-79.383949</td>\n",
       "      <td>NaN</td>\n",
       "      <td>NaN</td>\n",
       "      <td>4c093ee0340720a153728493</td>\n",
       "    </tr>\n",
       "    <tr>\n",
       "      <th>1</th>\n",
       "      <td>Toronto City Hall</td>\n",
       "      <td>City Hall</td>\n",
       "      <td>100 Queen St. W.</td>\n",
       "      <td>CA</td>\n",
       "      <td>Toronto</td>\n",
       "      <td>Canada</td>\n",
       "      <td>at Bay St.</td>\n",
       "      <td>38</td>\n",
       "      <td>[100 Queen St. W. (at Bay St.), Toronto ON M5H...</td>\n",
       "      <td>[{'label': 'display', 'lat': 43.65313989695342...</td>\n",
       "      <td>43.653140</td>\n",
       "      <td>-79.383967</td>\n",
       "      <td>M5H 2N2</td>\n",
       "      <td>ON</td>\n",
       "      <td>4ad4c05ef964a5208ff620e3</td>\n",
       "    </tr>\n",
       "    <tr>\n",
       "      <th>2</th>\n",
       "      <td>City of Toronto Civic Innovation Office</td>\n",
       "      <td>City Hall</td>\n",
       "      <td>100 Queen St W</td>\n",
       "      <td>CA</td>\n",
       "      <td>Toronto</td>\n",
       "      <td>Canada</td>\n",
       "      <td>NaN</td>\n",
       "      <td>3</td>\n",
       "      <td>[100 Queen St W, Toronto ON M5H 2N2, Canada]</td>\n",
       "      <td>[{'label': 'display', 'lat': 43.653454, 'lng':...</td>\n",
       "      <td>43.653454</td>\n",
       "      <td>-79.383952</td>\n",
       "      <td>M5H 2N2</td>\n",
       "      <td>ON</td>\n",
       "      <td>5b193c42598e64002ca79b96</td>\n",
       "    </tr>\n",
       "    <tr>\n",
       "      <th>3</th>\n",
       "      <td>City Hall Podium Green Roof</td>\n",
       "      <td>Garden</td>\n",
       "      <td>100 Queen Street West</td>\n",
       "      <td>CA</td>\n",
       "      <td>Toronto</td>\n",
       "      <td>Canada</td>\n",
       "      <td>NaN</td>\n",
       "      <td>6</td>\n",
       "      <td>[100 Queen Street West, Toronto ON, Canada]</td>\n",
       "      <td>[{'label': 'display', 'lat': 43.65350358617817...</td>\n",
       "      <td>43.653504</td>\n",
       "      <td>-79.383866</td>\n",
       "      <td>NaN</td>\n",
       "      <td>ON</td>\n",
       "      <td>4c0121fd9a950f47fa9208c6</td>\n",
       "    </tr>\n",
       "    <tr>\n",
       "      <th>4</th>\n",
       "      <td>the Archer / Three-Way Piece No. 2</td>\n",
       "      <td>Other Great Outdoors</td>\n",
       "      <td>Nathan Phillips Square</td>\n",
       "      <td>CA</td>\n",
       "      <td>Toronto</td>\n",
       "      <td>Canada</td>\n",
       "      <td>NaN</td>\n",
       "      <td>95</td>\n",
       "      <td>[Nathan Phillips Square, Toronto ON, Canada]</td>\n",
       "      <td>[{'label': 'display', 'lat': 43.652622, 'lng':...</td>\n",
       "      <td>43.652622</td>\n",
       "      <td>-79.383923</td>\n",
       "      <td>NaN</td>\n",
       "      <td>ON</td>\n",
       "      <td>4fa43f81e4b098f42a5681a1</td>\n",
       "    </tr>\n",
       "  </tbody>\n",
       "</table>\n",
       "</div>"
      ],
      "text/plain": [
       "                                      name            categories  \\\n",
       "0               City Hall Council Chambers             City Hall   \n",
       "1                        Toronto City Hall             City Hall   \n",
       "2  City of Toronto Civic Innovation Office             City Hall   \n",
       "3              City Hall Podium Green Roof                Garden   \n",
       "4       the Archer / Three-Way Piece No. 2  Other Great Outdoors   \n",
       "\n",
       "                  address  cc     city country crossStreet  distance  \\\n",
       "0                     NaN  CA      NaN  Canada         NaN       184   \n",
       "1        100 Queen St. W.  CA  Toronto  Canada  at Bay St.        38   \n",
       "2          100 Queen St W  CA  Toronto  Canada         NaN         3   \n",
       "3   100 Queen Street West  CA  Toronto  Canada         NaN         6   \n",
       "4  Nathan Phillips Square  CA  Toronto  Canada         NaN        95   \n",
       "\n",
       "                                    formattedAddress  \\\n",
       "0                                           [Canada]   \n",
       "1  [100 Queen St. W. (at Bay St.), Toronto ON M5H...   \n",
       "2       [100 Queen St W, Toronto ON M5H 2N2, Canada]   \n",
       "3        [100 Queen Street West, Toronto ON, Canada]   \n",
       "4       [Nathan Phillips Square, Toronto ON, Canada]   \n",
       "\n",
       "                                      labeledLatLngs        lat        lng  \\\n",
       "0  [{'label': 'display', 'lat': 43.65182710471462...  43.651827 -79.383949   \n",
       "1  [{'label': 'display', 'lat': 43.65313989695342...  43.653140 -79.383967   \n",
       "2  [{'label': 'display', 'lat': 43.653454, 'lng':...  43.653454 -79.383952   \n",
       "3  [{'label': 'display', 'lat': 43.65350358617817...  43.653504 -79.383866   \n",
       "4  [{'label': 'display', 'lat': 43.652622, 'lng':...  43.652622 -79.383923   \n",
       "\n",
       "  postalCode state                        id  \n",
       "0        NaN   NaN  4c093ee0340720a153728493  \n",
       "1    M5H 2N2    ON  4ad4c05ef964a5208ff620e3  \n",
       "2    M5H 2N2    ON  5b193c42598e64002ca79b96  \n",
       "3        NaN    ON  4c0121fd9a950f47fa9208c6  \n",
       "4        NaN    ON  4fa43f81e4b098f42a5681a1  "
      ]
     },
     "execution_count": 194,
     "metadata": {},
     "output_type": "execute_result"
    }
   ],
   "source": [
    "# keep only columns that include venue name, and anything that is associated with location\n",
    "filtered_columns = ['name', 'categories'] + [col for col in dataframe.columns if col.startswith('location.')] + ['id']\n",
    "dataframe_filtered = dataframe.loc[:, filtered_columns]\n",
    "\n",
    "# function that extracts the category of the venue\n",
    "def get_category_type(row):\n",
    "    try:\n",
    "        categories_list = row['categories']\n",
    "    except:\n",
    "        categories_list = row['venue.categories']\n",
    "        \n",
    "    if len(categories_list) == 0:\n",
    "        return None\n",
    "    else:\n",
    "        return categories_list[0]['name']\n",
    "\n",
    "# filter the category for each row\n",
    "dataframe_filtered['categories'] = dataframe_filtered.apply(get_category_type, axis=1)\n",
    "\n",
    "# clean column names by keeping only last term\n",
    "dataframe_filtered.columns = [column.split('.')[-1] for column in dataframe_filtered.columns]\n",
    "\n",
    "dataframe_filtered.head()"
   ]
  },
  {
   "cell_type": "code",
   "execution_count": 195,
   "metadata": {},
   "outputs": [],
   "source": [
    "#Create function to know how many venues there are in Toronto\n",
    "\n",
    "def getNearbyVenues(names, latitudes, longitudes, radius=500):\n",
    "    \n",
    "    venues_list=[]\n",
    "    for name, lat, lng in zip(names, latitudes, longitudes):\n",
    "        print(name)\n",
    "            \n",
    "        # create the API request URL\n",
    "        url = 'https://api.foursquare.com/v2/venues/explore?&client_id={}&client_secret={}&v={}&ll={},{}&radius={}&limit={}'.format(\n",
    "            CLIENT_ID, \n",
    "            CLIENT_SECRET, \n",
    "            VERSION, \n",
    "            lat, \n",
    "            lng, \n",
    "            radius, \n",
    "            LIMIT)\n",
    "            \n",
    "        # make the GET request\n",
    "        results = requests.get(url).json()[\"response\"]['groups'][0]['items']\n",
    "        \n",
    "        # return only relevant information for each nearby venue\n",
    "        venues_list.append([(\n",
    "            name, \n",
    "            lat, \n",
    "            lng, \n",
    "            v['venue']['name'], \n",
    "            v['venue']['location']['lat'], \n",
    "            v['venue']['location']['lng'],  \n",
    "            v['venue']['categories'][0]['name']) for v in results])\n",
    "\n",
    "    nearby_venues = pd.DataFrame([item for venue_list in venues_list for item in venue_list])\n",
    "    nearby_venues.columns = ['Neighborhood', \n",
    "                  'Neighborhood Latitude', \n",
    "                  'Neighborhood Longitude', \n",
    "                  'Venue', \n",
    "                  'Venue Latitude', \n",
    "                  'Venue Longitude', \n",
    "                  'Venue Category']\n",
    "    \n",
    "    return(nearby_venues)"
   ]
  },
  {
   "cell_type": "code",
   "execution_count": 196,
   "metadata": {},
   "outputs": [
    {
     "data": {
      "text/html": [
       "<div>\n",
       "<style scoped>\n",
       "    .dataframe tbody tr th:only-of-type {\n",
       "        vertical-align: middle;\n",
       "    }\n",
       "\n",
       "    .dataframe tbody tr th {\n",
       "        vertical-align: top;\n",
       "    }\n",
       "\n",
       "    .dataframe thead th {\n",
       "        text-align: right;\n",
       "    }\n",
       "</style>\n",
       "<table border=\"1\" class=\"dataframe\">\n",
       "  <thead>\n",
       "    <tr style=\"text-align: right;\">\n",
       "      <th></th>\n",
       "      <th>Postcode</th>\n",
       "      <th>Borough</th>\n",
       "      <th>Neighborhood</th>\n",
       "      <th>Latitude</th>\n",
       "      <th>Longitude</th>\n",
       "    </tr>\n",
       "  </thead>\n",
       "  <tbody>\n",
       "    <tr>\n",
       "      <th>0</th>\n",
       "      <td>M1B</td>\n",
       "      <td>Scarborough</td>\n",
       "      <td>Malvern, Rouge</td>\n",
       "      <td>43.806686</td>\n",
       "      <td>-79.194353</td>\n",
       "    </tr>\n",
       "    <tr>\n",
       "      <th>1</th>\n",
       "      <td>M1C</td>\n",
       "      <td>Scarborough</td>\n",
       "      <td>Rouge Hill, Port Union, Highland Creek</td>\n",
       "      <td>43.784535</td>\n",
       "      <td>-79.160497</td>\n",
       "    </tr>\n",
       "    <tr>\n",
       "      <th>2</th>\n",
       "      <td>M1E</td>\n",
       "      <td>Scarborough</td>\n",
       "      <td>Guildwood, Morningside, West Hill</td>\n",
       "      <td>43.763573</td>\n",
       "      <td>-79.188711</td>\n",
       "    </tr>\n",
       "    <tr>\n",
       "      <th>3</th>\n",
       "      <td>M1G</td>\n",
       "      <td>Scarborough</td>\n",
       "      <td>Woburn</td>\n",
       "      <td>43.770992</td>\n",
       "      <td>-79.216917</td>\n",
       "    </tr>\n",
       "    <tr>\n",
       "      <th>4</th>\n",
       "      <td>M1H</td>\n",
       "      <td>Scarborough</td>\n",
       "      <td>Cedarbrae</td>\n",
       "      <td>43.773136</td>\n",
       "      <td>-79.239476</td>\n",
       "    </tr>\n",
       "  </tbody>\n",
       "</table>\n",
       "</div>"
      ],
      "text/plain": [
       "  Postcode      Borough                            Neighborhood   Latitude  \\\n",
       "0      M1B  Scarborough                          Malvern, Rouge  43.806686   \n",
       "1      M1C  Scarborough  Rouge Hill, Port Union, Highland Creek  43.784535   \n",
       "2      M1E  Scarborough       Guildwood, Morningside, West Hill  43.763573   \n",
       "3      M1G  Scarborough                                  Woburn  43.770992   \n",
       "4      M1H  Scarborough                               Cedarbrae  43.773136   \n",
       "\n",
       "   Longitude  \n",
       "0 -79.194353  \n",
       "1 -79.160497  \n",
       "2 -79.188711  \n",
       "3 -79.216917  \n",
       "4 -79.239476  "
      ]
     },
     "execution_count": 196,
     "metadata": {},
     "output_type": "execute_result"
    }
   ],
   "source": [
    "toronto_df.head()"
   ]
  },
  {
   "cell_type": "code",
   "execution_count": null,
   "metadata": {},
   "outputs": [],
   "source": [
    "#List of Neighborhood that have venues in Toronto\n",
    "toronto_venues = getNearbyVenues(names=toronto_df['Neighborhood'],\n",
    "                                   latitudes=toronto_df['Latitude'],\n",
    "                                   longitudes=toronto_df['Longitude']\n",
    "                                  )"
   ]
  },
  {
   "cell_type": "code",
   "execution_count": null,
   "metadata": {},
   "outputs": [],
   "source": [
    "print('{} venues were returned by Foursquare.'.format(toronto_venues.shape[0]))\n",
    "toronto_venues.head()"
   ]
  },
  {
   "cell_type": "markdown",
   "metadata": {},
   "source": [
    "# Folium Library and Leaflet Map"
   ]
  },
  {
   "cell_type": "code",
   "execution_count": null,
   "metadata": {},
   "outputs": [],
   "source": [
    "# create map of Toronto using latitude and longitude values\n",
    "map_toronto = folium.Map(location=[latitude, longitude], zoom_start=10)\n",
    "\n",
    "# add markers to map\n",
    "for lat, lng, borough, neighborhood in zip(toronto_df['Latitude'], toronto_df['Longitude'], \n",
    "                                           toronto_df['Borough'], toronto_df['Neighborhood']):\n",
    "    label = '{}, {}'.format(neighborhood, borough)\n",
    "    label = folium.Popup(label, parse_html=True)\n",
    "    folium.CircleMarker(\n",
    "        [lat, lng],\n",
    "        radius=5,\n",
    "        popup=label,\n",
    "        color='blue',\n",
    "        fill=True,\n",
    "        fill_color='#3186cc',\n",
    "        fill_opacity=0.7,\n",
    "        parse_html=False).add_to(map_toronto)  \n",
    "    \n",
    "map_toronto"
   ]
  },
  {
   "cell_type": "markdown",
   "metadata": {},
   "source": [
    "# Relationship between neighborhood and Chinese Restaurant"
   ]
  },
  {
   "cell_type": "code",
   "execution_count": null,
   "metadata": {},
   "outputs": [],
   "source": [
    "toronto_df.head()"
   ]
  },
  {
   "cell_type": "code",
   "execution_count": null,
   "metadata": {},
   "outputs": [],
   "source": [
    "toronto_venues.head()"
   ]
  },
  {
   "cell_type": "code",
   "execution_count": null,
   "metadata": {},
   "outputs": [],
   "source": [
    "#Number of venues per neighborhood\n",
    "toronto_venues.groupby('Neighborhood').count()\n",
    "x = toronto_venues.groupby('Neighborhood').count()\n",
    "x.index.name = 'Neighborhood'\n",
    "x.reset_index(inplace = True)\n",
    "x.head()"
   ]
  },
  {
   "cell_type": "code",
   "execution_count": null,
   "metadata": {},
   "outputs": [],
   "source": [
    "# one hot encoding\n",
    "toronto_onehot = pd.get_dummies(toronto_venues[['Venue Category']], prefix=\"\", prefix_sep=\"\")\n",
    "\n",
    "# add neighborhood column back to dataframe\n",
    "toronto_onehot['Neighborhood'] = toronto_venues['Neighborhood'] \n",
    "\n",
    "# move neighborhood column to the first column\n",
    "fixed_columns = [toronto_onehot.columns[-1]] + list(toronto_onehot.columns[:-1])\n",
    "manhattan_onehot = toronto_onehot[fixed_columns]\n",
    "\n",
    "toronto_onehot.head()"
   ]
  },
  {
   "cell_type": "code",
   "execution_count": null,
   "metadata": {
    "scrolled": true
   },
   "outputs": [],
   "source": [
    "# add neighborhood column back to dataframe\n",
    "toronto_grouped = toronto_onehot.groupby('Neighborhood').mean().reset_index()\n",
    "toronto_grouped.head()"
   ]
  },
  {
   "cell_type": "code",
   "execution_count": null,
   "metadata": {},
   "outputs": [],
   "source": [
    "toronto_chinese = toronto_grouped[['Neighborhood','Chinese Restaurant']]\n",
    "toronto_chinese.head()"
   ]
  },
  {
   "cell_type": "code",
   "execution_count": null,
   "metadata": {},
   "outputs": [],
   "source": [
    "toronto_merged = pd.merge(toronto_df, toronto_chinese, on='Neighborhood')"
   ]
  },
  {
   "cell_type": "code",
   "execution_count": null,
   "metadata": {},
   "outputs": [],
   "source": [
    "toronto_merged"
   ]
  },
  {
   "cell_type": "code",
   "execution_count": null,
   "metadata": {},
   "outputs": [],
   "source": [
    "import seaborn as sns\n",
    "import matplotlib.pyplot as plt\n",
    "plt.figure(figsize=(18,6))\n",
    "ax = sns.violinplot(x=\"Borough\", y=\"Chinese Restaurant\", data=toronto_merged)\n",
    "plt.show()"
   ]
  },
  {
   "cell_type": "code",
   "execution_count": null,
   "metadata": {
    "scrolled": true
   },
   "outputs": [],
   "source": [
    "plt.figure(figsize = (18,6))\n",
    "ax2 = plt.bar(x = 'Borough', height = 'Chinese Restaurant', data = toronto_merged)\n",
    "plt.show()"
   ]
  },
  {
   "cell_type": "code",
   "execution_count": null,
   "metadata": {},
   "outputs": [],
   "source": [
    "#With the help of this bar plots we can identify the boroughs with densely populated Chinese restaurants. \n",
    "#It is drawn using seaborn library to show the distribution of Chinese restaurants in different boroughs.\n",
    "##Let’s also visualize the neighborhood with Chinese Restaurants:"
   ]
  },
  {
   "cell_type": "code",
   "execution_count": null,
   "metadata": {},
   "outputs": [],
   "source": [
    "neighbor_form = toronto_merged[toronto_merged['Chinese Restaurant']>0]\n",
    "plt.figure(figsize = (22,6))\n",
    "ax2 = plt.bar(x = 'Neighborhood', height = 'Chinese Restaurant', data = neighbor_form)\n",
    "plt.xticks(rotation=90)\n",
    "plt.show()"
   ]
  },
  {
   "cell_type": "markdown",
   "metadata": {},
   "source": [
    "# Relationship between Neighborhood and Chinese Population"
   ]
  },
  {
   "cell_type": "code",
   "execution_count": null,
   "metadata": {},
   "outputs": [],
   "source": [
    "df = TE.append([NY,S,EY], ignore_index=True)"
   ]
  },
  {
   "cell_type": "code",
   "execution_count": null,
   "metadata": {},
   "outputs": [],
   "source": [
    "df"
   ]
  },
  {
   "cell_type": "code",
   "execution_count": null,
   "metadata": {},
   "outputs": [],
   "source": [
    "df_now = df.iloc[[0,4,6,7,8,10,13,14,15,16,17,19,20],:]\n",
    "df_now"
   ]
  },
  {
   "cell_type": "code",
   "execution_count": null,
   "metadata": {},
   "outputs": [],
   "source": [
    "Chinese_population = {'Chinese_Population':[18290.4,14776.44,14544.51,12448.75,\n",
    "                                            30407.895,35335.44,11400.48,8292.13,\n",
    "                                           11818.15,7797.24,48985.75,7179.165,45486.26],'Riding': df_now['Riding']}"
   ]
  },
  {
   "cell_type": "code",
   "execution_count": null,
   "metadata": {},
   "outputs": [],
   "source": [
    "df_Chinese_population = pd.DataFrame(Chinese_population)"
   ]
  },
  {
   "cell_type": "code",
   "execution_count": null,
   "metadata": {},
   "outputs": [],
   "source": [
    "df_Chinese_population"
   ]
  },
  {
   "cell_type": "code",
   "execution_count": null,
   "metadata": {},
   "outputs": [],
   "source": [
    "plt.figure(figsize = (22,6))\n",
    "ax2 = plt.bar(x = 'Riding', height = 'Chinese_Population', data = df_Chinese_population)\n",
    "plt.xticks(rotation=90)\n",
    "plt.show()"
   ]
  },
  {
   "cell_type": "code",
   "execution_count": null,
   "metadata": {},
   "outputs": [],
   "source": [
    "#This analysis & visualization of the relationship between neighborhoods & Chinese population present in those neighborhoods helps us in identifying the highly populated Chinese neighborhoods. \n",
    "#Once we identify those neighborhoods it helps us in deciding where to place the new Chinese restaurant. \n",
    "#Chinese restaurant placed in an densely populated Chinese neighborhood is more likely to get more Chinese customers than a restaurant placed in a neighborhood with less or no Chiense population. \n",
    "#Thus this analysis helps in the determining the success of the new Chinese restaurant."
   ]
  },
  {
   "cell_type": "markdown",
   "metadata": {},
   "source": [
    "# Predictive Modeling - KMeans"
   ]
  },
  {
   "cell_type": "code",
   "execution_count": null,
   "metadata": {},
   "outputs": [],
   "source": [
    "from sklearn.cluster import KMeans\n",
    "\n",
    "toronto_part_clustering = toronto_merged.drop(['Neighborhood', 'Postcode', 'Borough'],1)\n",
    "\n",
    "toronto_part_clustering.head()"
   ]
  },
  {
   "cell_type": "code",
   "execution_count": null,
   "metadata": {},
   "outputs": [],
   "source": [
    "KM = KMeans(n_clusters = 2, max_iter=10)\n",
    "KM.fit(toronto_part_clustering)"
   ]
  },
  {
   "cell_type": "code",
   "execution_count": null,
   "metadata": {},
   "outputs": [],
   "source": [
    "error_cost = []\n",
    "for i in range(3,11):\n",
    "    KM = KMeans(n_clusters = i, max_iter = 100)\n",
    "    try:\n",
    "        KM.fit(toronto_part_clustering)\n",
    "    except ValueError:\n",
    "        print(\"error on line\",i)\n",
    "    \n",
    "    error_cost.append(KM.inertia_/100)\n",
    "    \n"
   ]
  },
  {
   "cell_type": "code",
   "execution_count": null,
   "metadata": {},
   "outputs": [],
   "source": [
    "#plot\n",
    "plt.plot(range(3,11), error_cost, color='r', linewidth='3')\n",
    "plt.xlabel('K values')\n",
    "plt.ylabel('Squared Error(cost)')\n",
    "plt.grid(color='white', linestyle='-', linewidth=2)\n",
    "plt.show()"
   ]
  },
  {
   "cell_type": "code",
   "execution_count": null,
   "metadata": {},
   "outputs": [],
   "source": [
    "#Instantiate the clustering model and visualizer\n",
    "!pip install yellowbrick\n",
    "from yellowbrick.cluster import KElbowVisualizer\n",
    "model = KMeans()\n",
    "visualizer = KElbowVisualizer(model, k=(4,13))\n",
    "\n",
    "#fit data to the visualizer\n",
    "visualizer.fit(toronto_part_clustering)\n",
    "visualizer.show()"
   ]
  },
  {
   "cell_type": "code",
   "execution_count": null,
   "metadata": {},
   "outputs": [],
   "source": [
    "#After analysing using elbow method using distortion score & Squared error for each K value, looks like K = 7 is the best value.\n",
    "#Clustering the Toronto Neighborhood Using K-Means with K =7"
   ]
  },
  {
   "cell_type": "code",
   "execution_count": null,
   "metadata": {},
   "outputs": [],
   "source": [
    "kclusters = 7\n",
    "\n",
    "kmeans = KMeans(n_clusters = kclusters, random_state=0).fit(toronto_part_clustering)\n",
    "\n",
    "kmeans.labels_"
   ]
  },
  {
   "cell_type": "code",
   "execution_count": null,
   "metadata": {},
   "outputs": [],
   "source": [
    "#Add group label to each row\n",
    "toronto_merged.insert(0, 'Cluster Labels', kmeans.labels_)"
   ]
  },
  {
   "cell_type": "markdown",
   "metadata": {},
   "source": [
    "# Exam Cluster"
   ]
  },
  {
   "cell_type": "code",
   "execution_count": null,
   "metadata": {},
   "outputs": [],
   "source": [
    "#cluster 0 \n",
    "toronto_merged.loc[toronto_merged['Cluster Labels']==0]"
   ]
  },
  {
   "cell_type": "code",
   "execution_count": null,
   "metadata": {},
   "outputs": [],
   "source": [
    "#Cluster 1\n",
    "toronto_merged.loc[toronto_merged['Cluster Labels']==1]"
   ]
  },
  {
   "cell_type": "code",
   "execution_count": null,
   "metadata": {},
   "outputs": [],
   "source": [
    "#Cluster 2\n",
    "toronto_merged.loc[toronto_merged['Cluster Labels']==2]"
   ]
  },
  {
   "cell_type": "code",
   "execution_count": null,
   "metadata": {},
   "outputs": [],
   "source": [
    "#Cluster 3\n",
    "toronto_merged.loc[toronto_merged['Cluster Labels']==3]"
   ]
  },
  {
   "cell_type": "code",
   "execution_count": null,
   "metadata": {},
   "outputs": [],
   "source": [
    "#Cluster 4\n",
    "toronto_merged.loc[toronto_merged['Cluster Labels']==4]"
   ]
  },
  {
   "cell_type": "code",
   "execution_count": null,
   "metadata": {},
   "outputs": [],
   "source": [
    "#Cluster 5\n",
    "toronto_merged.loc[toronto_merged['Cluster Labels']==5]"
   ]
  },
  {
   "cell_type": "code",
   "execution_count": null,
   "metadata": {},
   "outputs": [],
   "source": [
    "#Cluster 6\n",
    "toronto_merged.loc[toronto_merged['Cluster Labels']==6]"
   ]
  },
  {
   "cell_type": "code",
   "execution_count": null,
   "metadata": {},
   "outputs": [],
   "source": [
    "#Conclusion: Cluster 4 contains all the neighborhoods which is densely populated with Chinese restaurants. "
   ]
  },
  {
   "cell_type": "code",
   "execution_count": null,
   "metadata": {},
   "outputs": [],
   "source": []
  }
 ],
 "metadata": {
  "kernelspec": {
   "display_name": "Python 3",
   "language": "python",
   "name": "python3"
  },
  "language_info": {
   "codemirror_mode": {
    "name": "ipython",
    "version": 3
   },
   "file_extension": ".py",
   "mimetype": "text/x-python",
   "name": "python",
   "nbconvert_exporter": "python",
   "pygments_lexer": "ipython3",
   "version": "3.7.3"
  },
  "toc": {
   "base_numbering": 1,
   "nav_menu": {},
   "number_sections": true,
   "sideBar": true,
   "skip_h1_title": false,
   "title_cell": "Table of Contents",
   "title_sidebar": "Contents",
   "toc_cell": false,
   "toc_position": {},
   "toc_section_display": true,
   "toc_window_display": false
  },
  "varInspector": {
   "cols": {
    "lenName": 16,
    "lenType": 16,
    "lenVar": 40
   },
   "kernels_config": {
    "python": {
     "delete_cmd_postfix": "",
     "delete_cmd_prefix": "del ",
     "library": "var_list.py",
     "varRefreshCmd": "print(var_dic_list())"
    },
    "r": {
     "delete_cmd_postfix": ") ",
     "delete_cmd_prefix": "rm(",
     "library": "var_list.r",
     "varRefreshCmd": "cat(var_dic_list()) "
    }
   },
   "types_to_exclude": [
    "module",
    "function",
    "builtin_function_or_method",
    "instance",
    "_Feature"
   ],
   "window_display": false
  }
 },
 "nbformat": 4,
 "nbformat_minor": 2
}
